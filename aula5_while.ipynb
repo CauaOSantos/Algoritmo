{
  "nbformat": 4,
  "nbformat_minor": 0,
  "metadata": {
    "colab": {
      "provenance": [],
      "include_colab_link": true
    },
    "kernelspec": {
      "name": "python3",
      "display_name": "Python 3"
    },
    "language_info": {
      "name": "python"
    }
  },
  "cells": [
    {
      "cell_type": "markdown",
      "metadata": {
        "id": "view-in-github",
        "colab_type": "text"
      },
      "source": [
        "<a href=\"https://colab.research.google.com/github/CauaOSantos/Algoritmo/blob/main/aula5_while.ipynb\" target=\"_parent\"><img src=\"https://colab.research.google.com/assets/colab-badge.svg\" alt=\"Open In Colab\"/></a>"
      ]
    },
    {
      "cell_type": "markdown",
      "source": [
        "# 🧑‍🏫 Aula: Estrutura de Repetição while em Python\n",
        "\n",
        "# **🎯 Objetivo da Aula**\n",
        "\n",
        "Ao final desta aula, você será capaz de:\n",
        "\n",
        "* Entender o conceito de loops e a estrutura de repetição while.\n",
        "* Utilizar o loop while para executar blocos de código repetidamente até que uma condição seja satisfeita.\n",
        "* Implementar programas que utilizem o while para resolver problemas práticos.\n",
        "\n"
      ],
      "metadata": {
        "id": "6KznfA68LTKg"
      }
    },
    {
      "cell_type": "markdown",
      "source": [
        "# **📘 1. O que é o while?**\n",
        "\n",
        "O **`while`** é uma estrutura de **repetição** usada quando **não sabemos** exatamente quantas vezes precisamos repetir um bloco de código.\n",
        "\n",
        "A repetição continua enquanto uma **condição for verdadeira**.\n",
        "\n",
        "**🧩 Sintaxe:**\n",
        "\n",
        "```\n",
        "while condição:\n",
        "    # bloco de código a ser repetido\n",
        "\n",
        "```\n",
        "\n"
      ],
      "metadata": {
        "id": "nqyO3E_yxilp"
      }
    },
    {
      "cell_type": "markdown",
      "source": [
        "* **Condição**: uma expressão que é avaliada como True ou False. Enquanto a condição for True, o loop continuará a ser executado.\n",
        "* **Bloco de código**: o conjunto de instruções que serão repetidas.\n",
        "* Deve ser **indentado**."
      ],
      "metadata": {
        "id": "n4P3pKg_MdAs"
      }
    },
    {
      "cell_type": "markdown",
      "source": [
        "# **🧠 2. Conceitos Importantes**\n",
        "\n",
        "# **✅ 2.1. Condição Booleana**\n",
        "\n",
        "O while depende de uma **condição** que deve retornar **`True`** para continuar o loop."
      ],
      "metadata": {
        "id": "AAiYpCi2yWNN"
      }
    },
    {
      "cell_type": "code",
      "source": [
        "contador = 0\n",
        "while contador < 5:\n",
        "    print(\"Contador é:\", contador)\n",
        "    contador += 1"
      ],
      "metadata": {
        "id": "McduivGxOyD0",
        "colab": {
          "base_uri": "https://localhost:8080/"
        },
        "outputId": "42654093-f1ae-4734-b690-2359ea64cfd2"
      },
      "execution_count": null,
      "outputs": [
        {
          "output_type": "stream",
          "name": "stdout",
          "text": [
            "Contador é: 0\n",
            "Contador é: 1\n",
            "Contador é: 2\n",
            "Contador é: 3\n",
            "Contador é: 4\n"
          ]
        }
      ]
    },
    {
      "cell_type": "markdown",
      "source": [
        "**Explicação do Código:**\n",
        "\n",
        "* **Inicialização**: A variável contador é inicializada com o valor 0.\n",
        "\n",
        "* **Condição**: while contador < 5 verifica se o valor de contador é menor que 5.\n",
        "\n",
        "* **Bloco de Código:**\n",
        "\n",
        "  * Imprime o valor atual de contador.\n",
        "\n",
        "  * Incrementa o valor de contador em 1.\n",
        "\n",
        "- **Repetição**: O loop continua até que contador não seja mais menor que 5."
      ],
      "metadata": {
        "id": "MC2o8TaWO20t"
      }
    },
    {
      "cell_type": "markdown",
      "source": [
        "# **⛔ 2.2. Loops Infinitos**\n",
        "\n",
        "Se a condição nunca se tornar falsa, o loop será infinito, o que geralmente é um erro:"
      ],
      "metadata": {
        "id": "9aXwf1_NPM06"
      }
    },
    {
      "cell_type": "code",
      "source": [
        "x = 10\n",
        "while x > 0:\n",
        "    print(x)\n",
        "    # Esquecer de decrementar x resulta em loop infinito\n"
      ],
      "metadata": {
        "id": "cZsTMe6pPSSV",
        "colab": {
          "base_uri": "https://localhost:8080/"
        },
        "outputId": "b0e0d6b0-f030-4bd3-b734-065b9f9584da"
      },
      "execution_count": null,
      "outputs": [
        {
          "output_type": "stream",
          "name": "stdout",
          "text": [
            "10\n",
            "9\n",
            "8\n",
            "7\n",
            "6\n",
            "5\n",
            "4\n",
            "3\n",
            "2\n",
            "1\n"
          ]
        }
      ]
    },
    {
      "cell_type": "markdown",
      "source": [
        "**Para evitar um loop infinito:**"
      ],
      "metadata": {
        "id": "kgi3wJXmPTOS"
      }
    },
    {
      "cell_type": "code",
      "source": [
        "x = 10\n",
        "while x > 0:\n",
        "    print(x)\n",
        "    x -= 1  # Decrementa x em 1 a cada iteração"
      ],
      "metadata": {
        "id": "ZGB9gOXhPdtR"
      },
      "execution_count": null,
      "outputs": []
    },
    {
      "cell_type": "markdown",
      "source": [
        "# **🔁 2.3. Entrada de Dados com Validação**\n",
        "\n",
        "**O while é ótimo para validar entradas:**"
      ],
      "metadata": {
        "id": "361kzf_ezfPD"
      }
    },
    {
      "cell_type": "code",
      "source": [
        "senha = input(\"Digite a senha: \")\n",
        "while senha != \"1234\":\n",
        "    print(\"Senha incorreta!\")\n",
        "    senha = input(\"Digite novamente: \")\n",
        "print(\"Acesso concedido.\")\n"
      ],
      "metadata": {
        "colab": {
          "base_uri": "https://localhost:8080/"
        },
        "id": "ZpPGW9d0zoYj",
        "outputId": "0a2f8fb3-1b2e-41a0-afa0-99962d843e66"
      },
      "execution_count": null,
      "outputs": [
        {
          "output_type": "stream",
          "name": "stdout",
          "text": [
            "Digite a senha: 1234\n",
            "Acesso concedido.\n"
          ]
        }
      ]
    },
    {
      "cell_type": "markdown",
      "source": [
        "# **🧮 2.4. Acumuladores e Contadores**\n",
        "\n",
        "**Usamos variáveis para contar ou acumular valores durante o loop:**"
      ],
      "metadata": {
        "id": "rHWWWry-zstT"
      }
    },
    {
      "cell_type": "code",
      "source": [
        "soma = 0\n",
        "numero = int(input(\"Digite um número (0 para sair): \"))\n",
        "\n",
        "while numero != 0:\n",
        "    soma += numero\n",
        "    numero = int(input(\"Digite outro número: \"))\n",
        "\n",
        "print(\"Soma total:\", soma)\n"
      ],
      "metadata": {
        "id": "YvzMIit-z3Ub"
      },
      "execution_count": null,
      "outputs": []
    },
    {
      "cell_type": "markdown",
      "source": [
        "# **📲 2.5. Menu de Opções**\n",
        "\n",
        "**O while é excelente para criar menus interativos:**"
      ],
      "metadata": {
        "id": "A3kO2bfVz6KV"
      }
    },
    {
      "cell_type": "code",
      "source": [
        "opcao = \"\"\n",
        "while opcao != \"3\":\n",
        "    print(\"1 - Olá\\n2 - Ajuda\\n3 - Sair\")\n",
        "    opcao = input(\"Escolha uma opção: \")\n",
        "\n",
        "print(\"Programa encerrado.\")\n"
      ],
      "metadata": {
        "id": "Jzxx35zZ5wxr"
      },
      "execution_count": null,
      "outputs": []
    },
    {
      "cell_type": "markdown",
      "source": [
        "# **🛑 2.6. Comando break**\n",
        "\n",
        "**Interrompe o loop mesmo que a condição ainda seja verdadeira:**"
      ],
      "metadata": {
        "id": "6G7IYE8b5zff"
      }
    },
    {
      "cell_type": "code",
      "source": [
        "while True:\n",
        "    texto = input(\"Digite 'sair' para encerrar: \")\n",
        "    if texto == \"sair\":\n",
        "        break\n",
        "    print(\"Você digitou:\", texto)\n"
      ],
      "metadata": {
        "id": "PJWAN1qu52m3"
      },
      "execution_count": null,
      "outputs": []
    },
    {
      "cell_type": "markdown",
      "source": [
        "# **➿ 2.7. Comando continue**\n",
        "\n",
        "**Interrompe a iteração atual, mas não o loop:**"
      ],
      "metadata": {
        "id": "5IdHtC0w55ui"
      }
    },
    {
      "cell_type": "code",
      "source": [
        "x = 0\n",
        "while x < 10:\n",
        "    x += 1\n",
        "    if x % 2 == 0:\n",
        "        continue\n",
        "    print(x)  # imprime apenas ímpares\n"
      ],
      "metadata": {
        "id": "0tqKEGEs59uY"
      },
      "execution_count": null,
      "outputs": []
    },
    {
      "cell_type": "markdown",
      "source": [
        "# 🧪 3. Exemplos Práticos\n",
        "\n",
        "**Exemplo 1: Contagem Regressiva**\n",
        "\n",
        "- Vamos criar um programa que realiza uma contagem regressiva a partir de um número fornecido pelo usuário:"
      ],
      "metadata": {
        "id": "uFSqUmxoPrrx"
      }
    },
    {
      "cell_type": "code",
      "source": [
        "numero = int(input(\"Digite um número para começar a contagem regressiva: \"))\n",
        "while numero > 0:\n",
        "    print(numero)\n",
        "    numero -= 1\n",
        "print(\"Fim da contagem regressiva!\")\n"
      ],
      "metadata": {
        "id": "FVK3t2LNPxA7"
      },
      "execution_count": null,
      "outputs": []
    },
    {
      "cell_type": "markdown",
      "source": [
        "**Exemplo 2: Menu de Opções com while**\n",
        "\n",
        "Podemos usar o while para criar um menu interativo que só termina quando o usuário decide sair:"
      ],
      "metadata": {
        "id": "IZU0PDXJP0TD"
      }
    },
    {
      "cell_type": "code",
      "source": [
        "opcao = \"\"\n",
        "while opcao != \"3\":\n",
        "    print(\"1 - Olá\\n2 - Ajuda\\n3 - Sair\")\n",
        "    opcao = input(\"Escolha uma opção: \")\n",
        "\n",
        "print(\"Programa encerrado.\")\n"
      ],
      "metadata": {
        "id": "KPD_68Zh0CJy"
      },
      "execution_count": null,
      "outputs": []
    },
    {
      "cell_type": "markdown",
      "source": [
        "**🎲 Exemplo 3: Jogo da adivinhação**"
      ],
      "metadata": {
        "id": "PS6u98ckWT_B"
      }
    },
    {
      "cell_type": "code",
      "source": [
        "import random\n",
        "numero_secreto = random.randint(1, 10)\n",
        "palpite = 0\n",
        "\n",
        "while palpite != numero_secreto:\n",
        "    palpite = int(input(\"Adivinhe o número (1 a 10): \"))\n",
        "print(\"Acertou!\")\n"
      ],
      "metadata": {
        "colab": {
          "base_uri": "https://localhost:8080/"
        },
        "id": "tDBK98DCWYon",
        "outputId": "2a539a5a-389f-4918-dfcc-7a8daff94cc8"
      },
      "execution_count": null,
      "outputs": [
        {
          "output_type": "stream",
          "name": "stdout",
          "text": [
            "Adivinhe o número (1 a 10): 4\n",
            "Adivinhe o número (1 a 10): 1\n",
            "Acertou!\n"
          ]
        }
      ]
    },
    {
      "cell_type": "markdown",
      "source": [
        "# **Lista de Exercícios com while**\n",
        "\n",
        "1. **Soma de Números**: Crie um programa que solicite ao usuário para inserir números e some esses números até que o usuário insira zero. Quando zero for inserido, o programa deve imprimir a soma total.\n",
        "\n",
        "2. **Encontrar o Máximo**: Crie um programa que peça ao usuário para inserir números e encontre o maior número inserido. O programa deve continuar pedindo números até que o usuário digite \"sair\".\n",
        "\n",
        "3. **Quantidade de valores**: Conte quantos valores positivos, negativos e zeros foram digitados.\n",
        "\n",
        "4. **Conversão de Temperatura**: Faça um programa que converta uma temperatura de Celsius para Fahrenheit. Continue pedindo ao usuário para inserir uma nova temperatura em Celsius até que ele digite \"sair\".\n",
        "\n",
        "5. **Simulador de Caixa Eletrônico**: Crie um programa que simule um caixa eletrônico, que continue pedindo ao usuário para inserir um valor de saque até que o saldo da conta seja zero ou negativo.\n",
        "\n",
        "6. **Média de Notas**: Escreva um programa que continue pedindo ao usuário para inserir notas (0 a 10) e calcule a média dessas notas. O programa deve parar quando o usuário digitar uma nota negativa.\n",
        "\n",
        "7. **Conversor de Moeda**: Crie um programa que converta uma quantia em dólares para euros. Continue pedindo ao usuário quantias em dólares para converter até que ele insira \"0\".\n",
        "\n",
        "8. **Controle de Estoque**: Faça um controle de estoque com menu de entrada, saída e exibição.\n",
        "\n",
        "9. **Simulação de Dados de Sensor**: Crie um programa que simule a leitura de dados de um sensor e continue capturando dados até que um valor fora do intervalo de operação seja detectado (por exemplo, fora de 0 a 100).\n",
        "\n",
        "10. **Controle de Votação**: Faça um programa que permita cadastrar votos para 3 candidatos. Exibe contagem ao final quando for digitado \"fim\".\n",
        "\n",
        "11. **Simulador de Caixa Registradora**: O usuário digita o preço e a quantidade de produtos até digitar “sair”. O Sistema mostra a quantidade de produtos e o valor final da compra.\n",
        "\n",
        "12. **Sistema de Vendas com Estoque Reduzido**: O Sistema define um estoque inicial de produtos e a cada venda, retira quantidade do estoque. O sistema encerra quando não permite vender mais do que o disponível."
      ],
      "metadata": {
        "id": "P6sZAQ9pRqNt"
      }
    },
    {
      "cell_type": "code",
      "source": [
        "#atividade 1\n",
        "\n",
        "soma = 0\n",
        "digito = None\n",
        "\n",
        "while digito != 0:\n",
        "  digito = float(input(\"Digite um número para somar:\\nUse 0 para sair.\\n\"))\n",
        "  soma += digito\n",
        "print(f\"A soma dos números é: {soma}\")"
      ],
      "metadata": {
        "id": "kZunsso7iEOo",
        "outputId": "6bd7e812-0068-497d-fc23-f88db697d84a",
        "colab": {
          "base_uri": "https://localhost:8080/"
        }
      },
      "execution_count": null,
      "outputs": [
        {
          "output_type": "stream",
          "name": "stdout",
          "text": [
            "Digite um número para somar:\n",
            "Use 0 para sair.\n",
            " 10\n",
            "Digite um número para somar:\n",
            "Use 0 para sair.\n",
            " 10\n",
            "Digite um número para somar:\n",
            "Use 0 para sair.\n",
            " 10\n",
            "Digite um número para somar:\n",
            "Use 0 para sair.\n",
            " 0\n",
            "A soma dos números é: 30.0\n"
          ]
        }
      ]
    },
    {
      "cell_type": "code",
      "source": [
        "#atividade 2\n",
        "\n",
        "numeros = []\n",
        "\n",
        "while True:\n",
        "  numero = input(\"Digite um número:\\nDigite 'sair' para finalizar.\\n\").lower()\n",
        "  if numero == \"sair\":\n",
        "    break\n",
        "  numeros.append(float(numero))\n",
        "print(f\"O maior número é: {max(numeros)}\")"
      ],
      "metadata": {
        "id": "B8kkkxpLlgtL"
      },
      "execution_count": null,
      "outputs": []
    },
    {
      "cell_type": "code",
      "source": [
        "#atividade 3\n",
        "\n",
        "positivo = 0\n",
        "negativo = 0\n",
        "zero = 0\n",
        "convert = 0\n",
        "\n",
        "while True:\n",
        "  digito = input(\"Digite um número:\\nDigite 'sair' para finalizar.\\n\").lower()\n",
        "  if digito == \"sair\":\n",
        "    break\n",
        "  convert = float(digito)\n",
        "\n",
        "  if convert > 0:\n",
        "    positivo += 1\n",
        "\n",
        "  elif convert < 0:\n",
        "    negativo += 1\n",
        "\n",
        "  elif convert == 0:\n",
        "    zero += 1\n",
        "\n",
        "\n",
        "print(f\"Você digitou:\\n{positivo} n° positivos\\n{negativo} n° negativos\\n{zero} n° zeros\")"
      ],
      "metadata": {
        "id": "yseeshG9qWU9"
      },
      "execution_count": null,
      "outputs": []
    },
    {
      "cell_type": "code",
      "source": [
        "#exercicio 4\n",
        "\n",
        "celsius = 0\n",
        "fahrenheit = 0\n",
        "\n",
        "digito = input(\"Digite a temperatura em Celsius:\\nDigite 'sair' para finalizar.\\n\").lower()\n",
        "\n",
        "while digito != \"sair\":\n",
        "  celsius = float(digito)\n",
        "  fahrenheit = (celsius * 1.8) +32\n",
        "  print(f\"{celsius}°C é igual a {fahrenheit}°F\")\n",
        "  digito = input(\"Digite a temperatura em Celsius:\\nDigite 'sair' para finalizar.\\n\").lower()"
      ],
      "metadata": {
        "id": "BVx3h6nz3zLe",
        "outputId": "531120b2-cb1a-40b7-eb00-2b053d68d0f6",
        "colab": {
          "base_uri": "https://localhost:8080/"
        }
      },
      "execution_count": null,
      "outputs": [
        {
          "name": "stdout",
          "output_type": "stream",
          "text": [
            "Digite a temperatura em Celsius:\n",
            "Digite 'sair' para finalizar.\n",
            "30\n",
            "30.0°C é igual a 86.0°F\n",
            "Digite a temperatura em Celsius:\n",
            "Digite 'sair' para finalizar.\n",
            "sair\n"
          ]
        }
      ]
    },
    {
      "cell_type": "code",
      "source": [
        "#exercicio 5\n",
        "\n",
        "conta = float(input(\"Digite o valor da conta: \"))\n",
        "\n",
        "while True:\n",
        "  choice = int(input(\"Digite 1. para sacar ou 2. para sair: \"))\n",
        "  print(f\"O saldo da conta é de: {conta}\")\n",
        "  if choice == 1:\n",
        "    saque = float(input(\"Digite o valor a sacar: \"))\n",
        "    conta -= saque\n",
        "  else:\n",
        "    break\n",
        "  if conta < 0:\n",
        "    print(\"Saldo insuficiente.\")\n",
        "    break"
      ],
      "metadata": {
        "id": "erNWJH5X52Kf"
      },
      "execution_count": null,
      "outputs": []
    },
    {
      "cell_type": "code",
      "source": [
        "#exercicio 6\n",
        "\n",
        "nota = 0\n",
        "soma = 0\n",
        "cont = 0\n",
        "\n",
        "while nota >=0:\n",
        "  nota = int(input(\"Digite uma nota entre 0 e 10:\\nDigite uma nota negativa para sair.\\n\"))\n",
        "\n",
        "  if nota >= 0:\n",
        "    soma += nota\n",
        "    cont += 1\n",
        "\n",
        "media = soma/cont\n",
        "print(f\"A média das notas é: {media}\")\n",
        "\n",
        "\n"
      ],
      "metadata": {
        "collapsed": true,
        "colab": {
          "base_uri": "https://localhost:8080/"
        },
        "id": "T16J4fyBd7yy",
        "outputId": "e4c1c21c-e4e6-491d-cc44-17219d7f6e16"
      },
      "execution_count": null,
      "outputs": [
        {
          "output_type": "stream",
          "name": "stdout",
          "text": [
            "Digite uma nota entre 0 e 10:\n",
            "Digite uma nota negativa para sair.\n",
            "10\n",
            "Digite uma nota entre 0 e 10:\n",
            "Digite uma nota negativa para sair.\n",
            "3\n",
            "Digite uma nota entre 0 e 10:\n",
            "Digite uma nota negativa para sair.\n",
            "7\n",
            "Digite uma nota entre 0 e 10:\n",
            "Digite uma nota negativa para sair.\n",
            "1\n",
            "Digite uma nota entre 0 e 10:\n",
            "Digite uma nota negativa para sair.\n",
            "4\n",
            "Digite uma nota entre 0 e 10:\n",
            "Digite uma nota negativa para sair.\n",
            "-4\n",
            "A média das notas é: 5.0\n"
          ]
        }
      ]
    },
    {
      "cell_type": "code",
      "source": [
        "#exercicio 7\n",
        "\n",
        "euro = 0.88\n",
        "resultado = 0\n",
        "moeda = 1\n",
        "\n",
        "while moeda != 0:\n",
        "  moeda = float(input(\"===== Converta dólar em euro =====\\nDigite o valor em dólar: \"))\n",
        "  resultado = moeda * euro\n",
        "  print(f\"O valor em euro é: {resultado}\")"
      ],
      "metadata": {
        "id": "7n3Ay1GYf2iP"
      },
      "execution_count": null,
      "outputs": []
    },
    {
      "cell_type": "code",
      "source": [
        "#exercicio 8\n",
        "sair = False\n",
        "estoque = 0\n",
        "print(\"========== CONTROLE ESTOQUE ==========\\nDigite os números para continuar.\")\n",
        "\n",
        "while sair == False:\n",
        "  opcao = float(input(\"1. Entrada\\n2. Saída\\n3. Exibição\\n4. Sair\\n\"))\n",
        "  if opcao == 1:\n",
        "    entrada = float(input(\"Digite a quantidade a ser adicionada ao estoque: \"))\n",
        "    estoque += entrada\n",
        "  elif opcao == 2:\n",
        "    saida = float(input(\"Digite a quantidade a ser retirada do estoque: \"))\n",
        "    estoque -= saida\n",
        "  elif opcao == 3:\n",
        "    print(f\"O estoque atual é de: {estoque}\")\n",
        "  elif opcao == 4:\n",
        "    print(\"Saindo...\")\n",
        "    sair = True\n",
        "  else:\n",
        "    print(\"Opção inválida.\")"
      ],
      "metadata": {
        "id": "4KQguzploB07",
        "colab": {
          "base_uri": "https://localhost:8080/"
        },
        "outputId": "a1773210-c5e1-4987-ef73-b7451fd7ed69"
      },
      "execution_count": null,
      "outputs": [
        {
          "output_type": "stream",
          "name": "stdout",
          "text": [
            "========== CONTROLE ESTOQUE ==========\n",
            "Digite os números para continuar.\n",
            "1. Entrada\n",
            "2. Saída\n",
            "3. Exibição\n",
            "4. Sair\n",
            "4\n",
            "Saindo...\n"
          ]
        }
      ]
    },
    {
      "cell_type": "code",
      "source": [
        "#exercicio 9\n",
        "#Simulação de Dados de Sensor: Crie um programa que simule a leitura de dados de um sensor e continue capturando dados até que um valor fora do intervalo de operação seja detectado (por exemplo, fora de 0 a 100).\n",
        "\n",
        "valor = 0\n",
        "\n",
        "while valor >= 0 and valor <= 100:\n",
        "  valor = float(input(\"Digite um valor: \"))\n",
        "  print(f\"O valor lido foi: {valor}\")"
      ],
      "metadata": {
        "colab": {
          "base_uri": "https://localhost:8080/"
        },
        "id": "BAmOtKyY0hHS",
        "outputId": "f1e69d9a-c96c-4e2e-ba28-7911c2b3f7d2"
      },
      "execution_count": null,
      "outputs": [
        {
          "output_type": "stream",
          "name": "stdout",
          "text": [
            "Digite um valor: 10\n",
            "O valor lido foi: 10.0\n",
            "Digite um valor: 101\n",
            "O valor lido foi: 101.0\n"
          ]
        }
      ]
    },
    {
      "cell_type": "code",
      "source": [
        "#exercicio 10\n",
        "\n",
        "saida = \"\"\n",
        "candidato1 = 0\n",
        "candidato2 = 0\n",
        "candidato3 = 0\n",
        "\n",
        "print(\"Digite o número do candidato ou 'fim' para finalizar:\")\n",
        "while saida != \"fim\":\n",
        "  saida = input(\"1. Candidato 1\\n2. Candidato 2\\n3. Candidato 3\\nFim\\n\").lower()\n",
        "  if saida == \"1\":\n",
        "    candidato1 += 1\n",
        "  elif saida == \"2\":\n",
        "    candidato2 += 1\n",
        "  elif saida == \"3\":\n",
        "    candidato3 += 1\n",
        "  elif saida == \"fim\":\n",
        "    print(\"Finalizando...\")\n",
        "  else:\n",
        "    print(\"Opção inválida.\")\n",
        "\n",
        "print(f\"Candidato 1: {candidato1}\\nCandidato 2: {candidato2}\\nCandidato 3: {candidato3}\")\n"
      ],
      "metadata": {
        "id": "X-OY3NqI2xzj"
      },
      "execution_count": null,
      "outputs": []
    },
    {
      "cell_type": "code",
      "source": [
        "#exercicio 11\n",
        "caixa = 0\n",
        "dinheiro = 0\n",
        "cartao = 0\n",
        "voucher = 0\n",
        "pix = 0\n",
        "entrada = \"\"\n",
        "qntprod = 0\n",
        "\n",
        "while entrada != \"sair\":\n",
        "  produto = float(input(\"Digite o valor do produto: \"))\n",
        "  qnt = float(input(\"Digite a quantidade de produtos: \"))\n",
        "  qntprod += qnt\n",
        "  pagamento = float(input(\"Digite a forma de pagamento:\\n1. Dinheiro\\n2. Cartão\\n3. Voucher\\n4. Pix\\n\"))\n",
        "  if qnt == 1:\n",
        "    if pagamento == 1:\n",
        "      caixa += produto\n",
        "      dinheiro += produto\n",
        "    elif pagamento == 2:\n",
        "      caixa += produto\n",
        "      cartao += produto\n",
        "    elif pagamento == 3:\n",
        "      caixa += produto\n",
        "      voucher += produto\n",
        "    elif pagamento == 4:\n",
        "      caixa += produto\n",
        "      pix += produto\n",
        "  else:\n",
        "    if pagamento == 1:\n",
        "      caixa += (produto * qnt)\n",
        "      dinheiro += (produto * qnt)\n",
        "    elif pagamento == 2:\n",
        "      caixa += (produto * qnt)\n",
        "      cartao += (produto * qnt)\n",
        "    elif pagamento == 3:\n",
        "      caixa += (produto * qnt)\n",
        "      voucher += (produto * qnt)\n",
        "    elif pagamento == 4:\n",
        "      caixa += (produto * qnt)\n",
        "      pix += (produto * qnt)\n",
        "  entrada = input(\"Digite 'continuar' para continuar ou 'sair' para finalizar.\\n\").lower()\n",
        "\n",
        "print(f\"O caixa fechou com R${caixa} e {qntprod} produtos foram vendidos.\")\n",
        "print(f\"Dinheiro: R${dinheiro}\\nCartão: R${cartao}\\nVoucher: R${voucher}\\nPix: R${pix}\")\n"
      ],
      "metadata": {
        "id": "4ueNljWC4Rip"
      },
      "execution_count": null,
      "outputs": []
    },
    {
      "cell_type": "code",
      "source": [],
      "metadata": {
        "id": "wSr_a5bm8C7I"
      },
      "execution_count": null,
      "outputs": []
    }
  ]
}