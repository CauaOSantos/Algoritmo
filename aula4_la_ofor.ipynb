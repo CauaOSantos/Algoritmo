{
  "nbformat": 4,
  "nbformat_minor": 0,
  "metadata": {
    "colab": {
      "provenance": [],
      "include_colab_link": true
    },
    "kernelspec": {
      "name": "python3",
      "display_name": "Python 3"
    },
    "language_info": {
      "name": "python"
    }
  },
  "cells": [
    {
      "cell_type": "markdown",
      "metadata": {
        "id": "view-in-github",
        "colab_type": "text"
      },
      "source": [
        "<a href=\"https://colab.research.google.com/github/CauaOSantos/Algoritmo/blob/main/aula4_la_ofor.ipynb\" target=\"_parent\"><img src=\"https://colab.research.google.com/assets/colab-badge.svg\" alt=\"Open In Colab\"/></a>"
      ]
    },
    {
      "cell_type": "markdown",
      "source": [
        "# **📝 Laço for em Python – Estruturas de Repetição**\n",
        "\n",
        "**🎯 Objetivos da Aula**\n",
        "\n",
        "Ao final desta aula, os alunos serão capazes de:\n",
        "\n",
        "✅ Compreender o funcionamento do laço for em Python.\n",
        "\n",
        "✅ Utilizar for com diferentes intervalos numéricos (range()).\n",
        "\n",
        "✅ Criar loops personalizados com entrada do usuário.\n",
        "\n",
        "✅ Aplicar o for para resolver problemas matemáticos, como cálculo de média."
      ],
      "metadata": {
        "id": "7-4Xdm8NHgMi"
      }
    },
    {
      "cell_type": "markdown",
      "source": [
        "# **🔹 1. Introdução ao Laço for**\n",
        "\n",
        "O laço for é uma estrutura de repetição utilizada para percorrer uma sequência de elementos e executar um bloco de código várias vezes.\n",
        "\n",
        "**🛠 Estrutura básica do for**"
      ],
      "metadata": {
        "id": "HLh404RZHpTJ"
      }
    },
    {
      "cell_type": "code",
      "source": [
        "for variável in sequência:\n",
        "    # Bloco de código a ser repetido\n"
      ],
      "metadata": {
        "id": "sR0eayshHwB5"
      },
      "execution_count": null,
      "outputs": []
    },
    {
      "cell_type": "markdown",
      "source": [
        "📌 O for percorre cada elemento da sequência e executa o código dentro do bloco de repetição."
      ],
      "metadata": {
        "id": "7YNT3hbtHw6R"
      }
    },
    {
      "cell_type": "markdown",
      "source": [
        "# **🔹 2. Utilizando for com range()**\n",
        "\n",
        "A função range() gera uma sequência numérica, sendo muito útil para definir o número de repetições do laço for.\n",
        "\n",
        "**📍 Exemplo 1: Contagem de 1 a 10**"
      ],
      "metadata": {
        "id": "VMq25iscH6-S"
      }
    },
    {
      "cell_type": "code",
      "source": [
        "for numero in range(1, 11):  # Começa em 1 e vai até 10\n",
        "    print(numero)\n"
      ],
      "metadata": {
        "id": "BJ87JN0eIBQh"
      },
      "execution_count": null,
      "outputs": []
    },
    {
      "cell_type": "markdown",
      "source": [
        "**📌 Explicação:**\n",
        "\n",
        "* range(1, 11): começa em 1 e vai até 10 (o 11 não é incluído).\n",
        "\n",
        "* O for percorre esses números e os imprime um a um."
      ],
      "metadata": {
        "id": "62CUvP0pIDpZ"
      }
    },
    {
      "cell_type": "markdown",
      "source": [
        "**📍 Exemplo 2: Contagem de 0 a 9 (sem especificar início)**\n",
        "\n",
        "Se passarmos apenas um valor para range(n), o Python entende que a contagem começa do zero."
      ],
      "metadata": {
        "id": "3YWKxX5bIKu5"
      }
    },
    {
      "cell_type": "code",
      "source": [
        "for i in range(10):  # Começa em 0 e vai até 9\n",
        "    print(i)\n"
      ],
      "metadata": {
        "id": "UNPNW8IRIM6D"
      },
      "execution_count": null,
      "outputs": []
    },
    {
      "cell_type": "markdown",
      "source": [
        "📌 O loop percorre os valores de 0 a 9, totalizando 10 repetições."
      ],
      "metadata": {
        "id": "aKjhMgltIQB6"
      }
    },
    {
      "cell_type": "markdown",
      "source": [
        "**📍 Exemplo 3: Contagem de 0 a 20, de 2 em 2**\n",
        "\n",
        "Podemos definir um passo para o range(), permitindo intervalos personalizados."
      ],
      "metadata": {
        "id": "x-uXVpHrISC8"
      }
    },
    {
      "cell_type": "code",
      "source": [
        "for numero in range(0, 21, 2):  # Começa em 0, vai até 20, de 2 em 2\n",
        "    print(numero)\n"
      ],
      "metadata": {
        "colab": {
          "base_uri": "https://localhost:8080/"
        },
        "id": "GaHhQ3dRIWPh",
        "outputId": "464bc81f-0e7e-4859-b9a6-bc7bb0cc8791"
      },
      "execution_count": null,
      "outputs": [
        {
          "output_type": "stream",
          "name": "stdout",
          "text": [
            "0\n",
            "2\n",
            "4\n",
            "6\n",
            "8\n",
            "10\n",
            "12\n",
            "14\n",
            "16\n",
            "18\n",
            "20\n"
          ]
        }
      ]
    },
    {
      "cell_type": "markdown",
      "source": [
        "📌 Aqui, o loop imprime somente números pares de 0 a 20.\n",
        "\n"
      ],
      "metadata": {
        "id": "BxXdJCuGIYCh"
      }
    },
    {
      "cell_type": "markdown",
      "source": [
        "# **🔹 3. Personalizando o for com entrada do usuário**\n",
        "\n",
        "Podemos permitir que o usuário defina os valores de início, fim e passo do loop.\n",
        "\n",
        "**📍 Exemplo 4: Contador personalizado**"
      ],
      "metadata": {
        "id": "4bhIjdDgIZpZ"
      }
    },
    {
      "cell_type": "code",
      "source": [
        "inicio = int(input(\"Digite o número in1icial: \"))\n",
        "fim = int(input(\"Digite o número final: \"))\n",
        "passo = int(input(\"Digite o incremento: \"))\n",
        "\n",
        "for numero in range(inicio, fim + 1, passo):\n",
        "    print(numero)\n"
      ],
      "metadata": {
        "id": "n6SxC6RTIdxx"
      },
      "execution_count": null,
      "outputs": []
    },
    {
      "cell_type": "markdown",
      "source": [
        "**📌 Explicação:**\n",
        "\n",
        "* O usuário escolhe o início, fim e incremento.\n",
        "\n",
        "* O range() usa esses valores para controlar o loop.\n",
        "\n",
        "* O +1 no fim + 1 garante que o último número seja incluído caso o incremento permita."
      ],
      "metadata": {
        "id": "EQnY_dDSIh7x"
      }
    },
    {
      "cell_type": "markdown",
      "source": [
        "# **🔹 4. Contagem Regressiva com for**\n",
        "\n",
        "O range() permite contagem decrescente ao usarmos um passo negativo.\n",
        "\n",
        "**📍 Exemplo 5: Contagem regressiva de 10 até 1**"
      ],
      "metadata": {
        "id": "ayjR95cfIxbB"
      }
    },
    {
      "cell_type": "code",
      "source": [
        "for segundos in range(10, 0, -1):  # De 10 até 1, decrementando de -1 em -1\n",
        "    print(f\"Tempo restante: {segundos} segundos\")\n",
        "print(\"Tempo esgotado!\")\n"
      ],
      "metadata": {
        "id": "Tx4GwsyzI0xJ"
      },
      "execution_count": null,
      "outputs": []
    },
    {
      "cell_type": "markdown",
      "source": [
        "**🔹 5. Aplicações Matemáticas com for**\n",
        "\n",
        "O laço for é excelente para cálculos automáticos. Vamos ver alguns exemplos práticos.\n",
        "\n",
        "**📍 Exemplo 6: Cálculo da soma dos primeiros 10 números naturais**"
      ],
      "metadata": {
        "id": "wITejuyXI26i"
      }
    },
    {
      "cell_type": "code",
      "source": [
        "soma = 0\n",
        "for numero in range(1, 11):  # De 1 a 10\n",
        "    soma += numero\n",
        "print(f\"A soma dos números de 1 a 10 é {soma}\")\n"
      ],
      "metadata": {
        "id": "ZWof3szEI8MZ"
      },
      "execution_count": null,
      "outputs": []
    },
    {
      "cell_type": "markdown",
      "source": [
        "📌 O loop acumula a soma dos valores de 1 a 10.\n",
        "\n"
      ],
      "metadata": {
        "id": "UfGRk3UTI-Cp"
      }
    },
    {
      "cell_type": "markdown",
      "source": [
        "**📍 Exemplo 7: Cálculo da média de n números inseridos pelo usuário**"
      ],
      "metadata": {
        "id": "WDgaEWK2JBc7"
      }
    },
    {
      "cell_type": "code",
      "source": [
        "quantidade = int(input(\"Quantos números você quer inserir? \"))\n",
        "\n",
        "soma = 0  # Variável para armazenar a soma dos números\n",
        "for i in range(quantidade):\n",
        "    numero = float(input(f\"Digite o {i+1}º número: \"))\n",
        "    soma += numero  # Acumula a soma dos números\n",
        "\n",
        "media = soma / quantidade  # Calcula a média\n",
        "print(f\"A média dos números digitados é {media:.2f}\")\n"
      ],
      "metadata": {
        "id": "uhmB2pTWJCqK"
      },
      "execution_count": null,
      "outputs": []
    },
    {
      "cell_type": "markdown",
      "source": [
        "**📌 Passo a passo:**\n",
        "\n",
        "1️⃣ O usuário informa quantos números deseja inserir.\n",
        "\n",
        "2️⃣ O laço for repete essa quantidade de vezes.\n",
        "\n",
        "3️⃣ A soma dos números é armazenada.\n",
        "\n",
        "4️⃣ No final, a média é calculada e exibida.\n"
      ],
      "metadata": {
        "id": "OyEnqm30JExB"
      }
    },
    {
      "cell_type": "markdown",
      "source": [
        "**📍 Exemplo 8: Tabuada de um número fornecido pelo usuário**\n"
      ],
      "metadata": {
        "id": "unb1Q_TKJIkB"
      }
    },
    {
      "cell_type": "code",
      "source": [
        "numero = int(input(\"Digite um número para ver a tabuada: \"))\n",
        "\n",
        "for i in range(1, 11):  # De 1 a 10\n",
        "    print(f\"{numero} x {i} = {numero * i}\")\n"
      ],
      "metadata": {
        "colab": {
          "base_uri": "https://localhost:8080/"
        },
        "id": "G4Sdhvj3JMZ6",
        "outputId": "86ab3c48-e8b7-47cf-c6df-bce5c9317c59"
      },
      "execution_count": null,
      "outputs": [
        {
          "output_type": "stream",
          "name": "stdout",
          "text": [
            "Digite um número para ver a tabuada: 5\n",
            "5 x 1 = 5\n",
            "5 x 2 = 10\n",
            "5 x 3 = 15\n",
            "5 x 4 = 20\n",
            "5 x 5 = 25\n",
            "5 x 6 = 30\n",
            "5 x 7 = 35\n",
            "5 x 8 = 40\n",
            "5 x 9 = 45\n",
            "5 x 10 = 50\n"
          ]
        }
      ]
    },
    {
      "cell_type": "markdown",
      "source": [
        "**6. Exercícios para Fixação**\n",
        "\n",
        "1️⃣ Crie um programa que conte de 100 até 90, de forma decrescente.\n",
        "\n",
        "2️⃣ Peça um número ao usuário e exiba os múltiplos desse número de 1 a 10.\n",
        "\n",
        "3️⃣ Faça um programa que solicite 5 notas e calcule a média.\n",
        "\n",
        "4️⃣ Crie um contador que peça ao usuário um número inicial, um número final e um incremento e exiba os valores gerados.\n"
      ],
      "metadata": {
        "id": "HOrWTMrSJcAC"
      }
    },
    {
      "cell_type": "markdown",
      "source": [
        "**🎯 Conclusão**\n",
        "\n",
        "* O laço for facilita a repetição de tarefas.\n",
        "\n",
        "range() nos permite controlar a sequência numérica.\n",
        "\n",
        "* Podemos usar for para cálculos, contagens e manipulação de números.\n",
        "\n",
        "* Agora é sua vez! Teste os exemplos e resolva os exercícios.\n"
      ],
      "metadata": {
        "id": "nUNiNFXSJuiR"
      }
    },
    {
      "cell_type": "markdown",
      "source": [
        "# **Lista de Exercícios - Laço for em Python**\n",
        "\n",
        "**📌 Contagens e Repetições**\n",
        "**1. Contagem de 1 a 10**\n",
        "\n",
        "**Tarefa**: Escreva um programa que exiba os números de 1 a 10 usando for.\n",
        "\n",
        "**2. Contagem Personalizada**\n",
        "\n",
        "**Tarefa**: Peça ao usuário um número e exiba uma contagem de 1 até esse número.\n",
        "\n",
        "**3. Contagem Regressiva**\n",
        "\n",
        "**Tarefa**: Exiba uma contagem regressiva de 10 até 1 e, ao final, exiba \"Fogo!\".\n",
        "\n",
        "**4. Contagem com Passo Personalizado**\n",
        "\n",
        "**Tarefa**: Peça ao usuário três números: início, fim e passo e exiba a sequência correspondente.\n",
        "\n",
        "**5. Números Pares entre 1 e 20**\n",
        "\n",
        "**Tarefa**: Exiba todos os números pares de 1 a 20."
      ],
      "metadata": {
        "id": "NTvgfI9JKvuq"
      }
    },
    {
      "cell_type": "markdown",
      "source": [
        "**📌 Operações Matemáticas**\n",
        "\n",
        "**6. Soma dos Números de 1 a N**\n",
        "\n",
        "**Tarefa**: Solicite um número ao usuário e exiba a soma de 1 até esse número.\n",
        "\n",
        "**7. Tabuada de um Número**\n",
        "\n",
        "**Tarefa**: Peça ao usuário um número e exiba a tabuada desse número de 1 a 10.\n",
        "\n",
        "**8. Média de Notas**\n",
        "\n",
        "**Tarefa**: Peça 5 notas ao usuário e calcule a média delas.\n",
        "\n",
        "**9. Soma dos Dígitos de um Número**\n",
        "\n",
        "**Tarefa**: Peça um número ao usuário e some seus dígitos (exemplo: 123 → 1+2+3 = 6).\n",
        "\n",
        "**10. Fatorial de um Número**\n",
        "\n",
        "**Tarefa**: Solicite um número ao usuário e exiba o seu fatorial (n!)."
      ],
      "metadata": {
        "id": "lLFsg61ALHI2"
      }
    },
    {
      "cell_type": "markdown",
      "source": [
        "**📌 Estruturas Condicionais com Repetição**\n",
        "\n",
        "**11. Números Pares e Ímpares**\n",
        "\n",
        "**Tarefa**: Escreva um programa que exiba os números de 1 a 20 e indique se cada um é par ou ímpar.\n",
        "\n",
        "**12. Tabuada Personalizada**\n",
        "\n",
        "**Tarefa**: Peça um número ao usuário e exiba sua tabuada de 1 a 10, mas se for múltiplo de 3, substitua pelo texto \"Multiplo de 3\".\n",
        "\n",
        "**13. Soma dos Números Pares e Ímpares**\n",
        "\n",
        "**Tarefa**: Peça um número ao usuário e some separadamente os pares e os ímpares de 1 até esse número.\n",
        "\n",
        "**14. Maior e Menor Número da Lista**\n",
        "\n",
        "**Tarefa**: Peça ao usuário para digitar 5 números e exiba o maior e o menor deles.\n",
        "\n",
        "\n",
        "\n"
      ],
      "metadata": {
        "id": "Lgt4R2GDL6Qc"
      }
    },
    {
      "cell_type": "markdown",
      "source": [
        "**📌 Contagem e Classificação**\n",
        "\n",
        "**15. Números Positivos e Negativos**\n",
        "\n",
        "**Tarefa**: Peça ao usuário 10 números e exiba quantos são positivos, negativos ou zero.\n",
        "\n",
        "**16. Contagem de Números Múltiplos de 3 e 5**\n",
        "\n",
        "**Tarefa**: Peça ao usuário um número N e exiba quantos números entre 1 e N são múltiplos de 3 ou 5."
      ],
      "metadata": {
        "id": "ha3qBRuUNBNy"
      }
    },
    {
      "cell_type": "markdown",
      "source": [
        "**📌 Lógica Condicional Aplicada**\n",
        "\n",
        "**17. Verificador de Paridade de Um Número**\n",
        "\n",
        "**Tarefa**: Solicite ao usuário um número e verifique se ele é par ou ímpar.\n",
        "\n",
        "* Se o número for par, divida-o por 2 e exiba o resultado.\n",
        "\n",
        "* Se o número for ímpar, multiplique-o por 3 e exiba o resultado.\n",
        "\n",
        "**18. Números Múltiplos de 3 e 5**\n",
        "\n",
        "**Tarefa**: Peça ao usuário um número N e exiba todos os números de 1 até N que são múltiplos de 3 e 5.\n",
        "\n",
        "**19. Adivinhação de Número**\n",
        "\n",
        "**Tarefa**: O computador escolhe um número aleatório de 1 a 10, e o usuário tem 3 tentativas para adivinhar. Dê dicas se o número é maior ou menor.\n",
        "\n",
        "**20. Números Primos**\n",
        "\n",
        "**Tarefa**: Crie um programa que solicite ao usuário um número e informe se ele é primo ou não. Lembre-se de que um número primo é aquele que é divisível apenas por 1 e por ele mesmo.\n",
        "\n"
      ],
      "metadata": {
        "id": "wBw9BN-vMyJK"
      }
    },
    {
      "cell_type": "code",
      "source": [
        "#exercicio 1\n",
        "\n",
        "for i in range(1, 11):\n",
        "  print(i)"
      ],
      "metadata": {
        "colab": {
          "base_uri": "https://localhost:8080/"
        },
        "id": "vdi_YhUZuDZ6",
        "outputId": "3a3af3bd-098d-4dde-b007-8cb20540c15c"
      },
      "execution_count": null,
      "outputs": [
        {
          "output_type": "stream",
          "name": "stdout",
          "text": [
            "1\n",
            "2\n",
            "3\n",
            "4\n",
            "5\n",
            "6\n",
            "7\n",
            "8\n",
            "9\n",
            "10\n"
          ]
        }
      ]
    },
    {
      "cell_type": "code",
      "source": [
        "#exercicio 2\n",
        "\n",
        "numero = int(input(\"Digite um número: \"))\n",
        "for i in range(1, numero + 1):\n",
        "  print(i)"
      ],
      "metadata": {
        "id": "jLKhKaPFuXI7"
      },
      "execution_count": null,
      "outputs": []
    },
    {
      "cell_type": "code",
      "source": [
        "#exercicio 3\n",
        "\n",
        "for i in range (10, 0, -1):\n",
        "  print(i)\n",
        "print(\"fogo!\")"
      ],
      "metadata": {
        "colab": {
          "base_uri": "https://localhost:8080/"
        },
        "id": "OKdLGM31ubzC",
        "outputId": "2bad1ff6-e69c-40b8-921e-1c3bdcc41737"
      },
      "execution_count": null,
      "outputs": [
        {
          "output_type": "stream",
          "name": "stdout",
          "text": [
            "10\n",
            "9\n",
            "8\n",
            "7\n",
            "6\n",
            "5\n",
            "4\n",
            "3\n",
            "2\n",
            "1\n",
            "fogo!\n"
          ]
        }
      ]
    },
    {
      "cell_type": "code",
      "source": [
        "#exercicio 4\n",
        "\n",
        "inicio = int(input(\"Digite o número inicial: \"))\n",
        "fim = int(input(\"Digite o número final: \"))\n",
        "passo = int(input(\"Digite o incremento: \"))\n",
        "\n",
        "for numero in range(inicio, fim + 1, passo):\n",
        "    print(numero)"
      ],
      "metadata": {
        "id": "_3bgBCKguz2U"
      },
      "execution_count": null,
      "outputs": []
    },
    {
      "cell_type": "code",
      "source": [
        "#exercicio 5\n",
        "\n",
        "for i in range (2, 21, 2):\n",
        "  print(i)"
      ],
      "metadata": {
        "colab": {
          "base_uri": "https://localhost:8080/"
        },
        "id": "ILgnfnwXu3oA",
        "outputId": "c761bcfc-e038-4332-8600-86c0ab3b7eb5"
      },
      "execution_count": null,
      "outputs": [
        {
          "output_type": "stream",
          "name": "stdout",
          "text": [
            "2\n",
            "4\n",
            "6\n",
            "8\n",
            "10\n",
            "12\n",
            "14\n",
            "16\n",
            "18\n",
            "20\n"
          ]
        }
      ]
    },
    {
      "cell_type": "code",
      "source": [
        "#exercicio 6\n",
        "\n",
        "numero = int(input(\"Digite um número: \"))\n",
        "soma = 0\n",
        "for i in range(1, numero + 1):\n",
        "  soma += i\n",
        "print(f\"A soma dos números de 1 a {numero} é {soma}\")"
      ],
      "metadata": {
        "colab": {
          "base_uri": "https://localhost:8080/"
        },
        "id": "Tlh29Wrcvm-e",
        "outputId": "e70468b3-9de7-4315-ab26-825c0c0190c0"
      },
      "execution_count": null,
      "outputs": [
        {
          "output_type": "stream",
          "name": "stdout",
          "text": [
            "Digite um número: 10\n",
            "A soma dos números de 1 a 10 é 55\n"
          ]
        }
      ]
    },
    {
      "cell_type": "code",
      "source": [
        "#exercicio 7\n",
        "\n",
        "numero = int(input(\"Digite um número: \"))\n",
        "for i in range(1, 11):\n",
        "  print(f\"{numero} x {i} = {numero * i}\")"
      ],
      "metadata": {
        "colab": {
          "base_uri": "https://localhost:8080/"
        },
        "id": "bMswK3Vkwmme",
        "outputId": "a8973a3a-49d8-4b97-99b8-f3c5c5c7d2bd"
      },
      "execution_count": null,
      "outputs": [
        {
          "output_type": "stream",
          "name": "stdout",
          "text": [
            "Digite um número: 30\n",
            "30 x 1 = 30\n",
            "30 x 2 = 60\n",
            "30 x 3 = 90\n",
            "30 x 4 = 120\n",
            "30 x 5 = 150\n",
            "30 x 6 = 180\n",
            "30 x 7 = 210\n",
            "30 x 8 = 240\n",
            "30 x 9 = 270\n",
            "30 x 10 = 300\n"
          ]
        }
      ]
    },
    {
      "cell_type": "code",
      "source": [
        "#exercicio 8\n",
        "\n",
        "soma = 0\n",
        "for i in range(5):\n",
        "  notas = float(input(f\"Digite a nota {i+1} para a media: \"))\n",
        "  soma += notas\n",
        "print(f\"A média das notas são: {soma/5}\")\n"
      ],
      "metadata": {
        "colab": {
          "base_uri": "https://localhost:8080/"
        },
        "id": "lHoCCwtHw4WR",
        "outputId": "67724bdc-c9c0-44db-ca93-793354ece67f"
      },
      "execution_count": null,
      "outputs": [
        {
          "output_type": "stream",
          "name": "stdout",
          "text": [
            "Digite a nota 1 para a media: 5\n",
            "Digite a nota 2 para a media: 5\n",
            "Digite a nota 3 para a media: 20\n",
            "Digite a nota 4 para a media: 40\n",
            "Digite a nota 5 para a media: 10\n",
            "A média das notas são: 16.0\n"
          ]
        }
      ]
    },
    {
      "cell_type": "code",
      "source": [
        "#exercicio 9\n",
        "#Peça um número ao usuário e some seus dígitos (exemplo: 123 → 1+2+3 = 6) utilizando for.\n",
        "\n"
      ],
      "metadata": {
        "colab": {
          "base_uri": "https://localhost:8080/"
        },
        "id": "BcyV18uSxI26",
        "outputId": "0483ba9e-800a-4782-bc1b-715782b6d7d3"
      },
      "execution_count": null,
      "outputs": [
        {
          "output_type": "stream",
          "name": "stdout",
          "text": [
            "Digite um número: 10\n",
            "A soma dos números de 1 a 10 é 55\n"
          ]
        }
      ]
    }
  ]
}